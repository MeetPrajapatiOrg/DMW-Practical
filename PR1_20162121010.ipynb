{
  "nbformat": 4,
  "nbformat_minor": 0,
  "metadata": {
    "colab": {
      "provenance": [],
      "authorship_tag": "ABX9TyNkTB/M6IkL1pP0x2jaUQTc",
      "include_colab_link": true
    },
    "kernelspec": {
      "name": "python3",
      "display_name": "Python 3"
    },
    "language_info": {
      "name": "python"
    }
  },
  "cells": [
    {
      "cell_type": "markdown",
      "metadata": {
        "id": "view-in-github",
        "colab_type": "text"
      },
      "source": [
        "<a href=\"https://colab.research.google.com/github/MeetPrajapatiOrg/DMW-Practical/blob/main/PR1_20162121010.ipynb\" target=\"_parent\"><img src=\"https://colab.research.google.com/assets/colab-badge.svg\" alt=\"Open In Colab\"/></a>"
      ]
    },
    {
      "cell_type": "markdown",
      "source": [
        "NAME : MEET PRAJAPATI\n",
        "\n",
        "EN. NO : 20162121010\n",
        "\n",
        "\n",
        "---\n",
        "\n",
        "\n",
        "**PRACTICAL 1 :** Suppose you are planning to buy a product online (like, a mobile phone or laptop) and you will check the e-commerce website from where you wish to buy. As a responsible customer, you will be checking all the items available in different brand and specification, cost variation. All those details you need to go through the products one by one to select the best one. It will take lots of time and efforts. So now to ease your work, extract all the information from website and store that details in the tabular format or an excel file. For an e.g. Storing all the details of phone like brand name, specification and price in a table, so that it will be easy for us to analyse.\n",
        "\n",
        "Link : https://www.amazon.in/\n",
        "\n",
        "You can take any product of your choice.\n",
        "\n",
        "\n",
        "---\n",
        "\n",
        "\n"
      ],
      "metadata": {
        "id": "zKTamdwmEFHv"
      }
    },
    {
      "cell_type": "markdown",
      "source": [
        "**Solution :**\n",
        "From the scenario we have to make excel sheet of product details to compare with each other in terms of -\n",
        "- prize\n",
        "- brands\n",
        "- specification of device \n",
        " and analyse which product is best for our rquiements\n",
        " etc...\n",
        "\n",
        "\n",
        "For these we have to import 'requests' module \n",
        "\n",
        "Note : You can use uslib for these but this module is not supported by amazon. So we are using 'requests' module for getting data from site\n",
        "\n",
        "**Steps: **\n",
        "\n",
        "- import required libraries (requests, bs4, xlwt, pandas)\n",
        "- fetch or open url\n",
        "- read content from fetched url\n",
        "- parse data into html \n",
        "- find tags which are required in details"
      ],
      "metadata": {
        "id": "Pps3hovQj9Ha"
      }
    },
    {
      "cell_type": "code",
      "source": [
        "# import 'requests' for HTTP library\n",
        "import requests \n",
        "# To makes easy to scrape information from web pages import 'BeautifulSoup'. It help in HTML or XML parser, providing functionality for iterating, searching, and modifying the parse tree.\n",
        "from bs4 import BeautifulSoup\n",
        "# xlwt module for handling dataset and workbook sheet\n",
        "import xlwt\n",
        "from xlwt import Workbook\n",
        "\n",
        "# import pandas lib as pd\n",
        "import pandas as pd\n"
      ],
      "metadata": {
        "id": "ickPPVQSGNy4"
      },
      "execution_count": 185,
      "outputs": []
    },
    {
      "cell_type": "code",
      "source": [
        "# All product url List\n",
        "productUrlList = [\"https://www.amazon.in/dp/B08P2M3249/\",\"https://www.amazon.in/dp/B07BS4TJ43/\",\"https://www.amazon.in/dp/B07RJWB548/\",\"https://www.amazon.in/dp/B08M3QCXKP/\",\"https://www.amazon.in/dp/B09F9Q7287/\",\"https://www.amazon.in/dp/B06Y5RTN1T/\"]\n",
        "\n",
        "# Create workbook with sheet 1 for adding the product details\n",
        "wb= Workbook()\n",
        "\n",
        "# Defining colomns in tables\n",
        "amazonCameraComparision = wb.add_sheet('Sheet 1')\n",
        "amazonCameraComparision.write(0, 0, 'Sr.No')\n",
        "amazonCameraComparision.write(0, 1, 'Name')\n",
        "amazonCameraComparision.write(0, 2, 'Price')\n",
        "amazonCameraComparision.write(0, 3, 'Brand')\n",
        "amazonCameraComparision.write(0, 4, 'Modal')\n",
        "amazonCameraComparision.write(0, 5, 'Special Feature')\n",
        "amazonCameraComparision.write(0, 6, 'Eff. Still Resolution')\n",
        "amazonCameraComparision.write(0, 7, 'Display Size')\n",
        "amazonCameraComparision.write(0, 8, 'Optical Zoom')\n",
        "amazonCameraComparision.write(0, 9, 'Colour')\n",
        "amazonCameraComparision.write(0, 10, 'Photo Sensor Size')\n",
        "amazonCameraComparision.write(0, 11, 'Connection')\n",
        "\n",
        "# iterate productUrlList\n",
        "row = 1\n",
        "for url in productUrlList:\n",
        "  # assign None as default value to variable\n",
        "  price = None\n",
        "  name = None\n",
        "  brand = None\n",
        "  modal_name = None\n",
        "  special_feature = None\n",
        "  effective_still_resolution = None\n",
        "  display_size = None\n",
        "  optical_zoom = None\n",
        "  color = None\n",
        "  photo_sensor_size = None\n",
        "  connectivity_technology = None\n",
        "  \n",
        "  # iterate while name is not fetch or \n",
        "  # while data will not retrived from url\n",
        "  while name==None:\n",
        "    # fetch each url data\n",
        "    fetchUrlProduct = requests.get(url)\n",
        "    # read data from fetched url \n",
        "    readData = fetchUrlProduct.content\n",
        "    # parse data readData into soupParser\n",
        "    soupParser = BeautifulSoup(readData)\n",
        "\n",
        "    # find tags with data as required details\n",
        "    name = soupParser.find('span',{\"id\":\"productTitle\"})\n",
        "    price = soupParser.find('span',{\"class\":\"a-offscreen\"})\n",
        "    brand = soupParser.find('tr',{\"class\":\"a-spacing-small po-brand\"})\n",
        "    modal_name = soupParser.find('tr',{\"class\":\"a-spacing-small po-model_name\"})\n",
        "    special_feature = soupParser.find('tr',{\"class\":\"a-spacing-small po-special_feature\"})\n",
        "    effective_still_resolution = soupParser.find('tr',{\"class\":\"a-spacing-small po-effective_still_resolution\"})\n",
        "    display_size = soupParser.find('tr',{\"class\":\"a-spacing-small po-display.size\"})\n",
        "    optical_zoom = soupParser.find('tr',{\"class\":\"a-spacing-small po-optical_zoom\"})\n",
        "    color = soupParser.find('tr',{\"class\":\"a-spacing-small po-color\"})\n",
        "    photo_sensor_size = soupParser.find('tr',{\"class\":\"a-spacing-small po-photo_sensor.size\"})\n",
        "    connectivity_technology = soupParser.find('tr',{\"class\":\"a-spacing-small po-connectivity_technology\"})\n",
        "\n",
        "  # retrive data as we need from tag\n",
        "  # Like .text help to remove tags and only return text\n",
        "  # strip() will remove extra spacing from beginning or end\n",
        "  # split() will help to split using there head tag so we can find only value for tag \n",
        "  price = price.text\n",
        "  name = name.text.split(\"|\")[0].strip()\n",
        "  brand = brand.text.strip().split(\"Brand\")[-1].strip()\n",
        "  modal_name = modal_name.text.strip().split(\"Model Name\")[-1].strip()\n",
        "  special_feature = special_feature.text.split(\"Special Feature\")[-1].strip()\n",
        "  color = color.text.split(\"Colour\")[-1].strip()\n",
        "\n",
        "  if effective_still_resolution!=None:\n",
        "    effective_still_resolution = effective_still_resolution.text.split(\"Effective Still Resolution\")[-1].strip()\n",
        "  if display_size != None:\n",
        "    display_size = display_size.text.split(\"Screen Size\")[-1].strip()\n",
        "  if optical_zoom != None:\n",
        "    optical_zoom = optical_zoom.text.split(\"Optical Zoom\")[-1].strip()\n",
        "  if photo_sensor_size!=None:\n",
        "    photo_sensor_size = photo_sensor_size.text.split(\"Photo Sensor Size\")[-1].strip()\n",
        "  if connectivity_technology != None:\n",
        "    connectivity_technology = connectivity_technology.text.split(\"Connector Type\")[-1].strip()\n",
        "\n",
        "  # write value or Deatils in cell of workbook in rows\n",
        "  amazonCameraComparision.write(row,0, row)\n",
        "  amazonCameraComparision.write(row,1, name)\n",
        "  amazonCameraComparision.write(row,2, price)\n",
        "  amazonCameraComparision.write(row,3, brand)\n",
        "  amazonCameraComparision.write(row,4, modal_name)\n",
        "  amazonCameraComparision.write(row,5, special_feature)\n",
        "  amazonCameraComparision.write(row,6, effective_still_resolution)\n",
        "  amazonCameraComparision.write(row,7, display_size)\n",
        "  amazonCameraComparision.write(row,8, optical_zoom)\n",
        "  amazonCameraComparision.write(row,9, color)\n",
        "  amazonCameraComparision.write(row,10, photo_sensor_size)\n",
        "  amazonCameraComparision.write(row,11, connectivity_technology)\n",
        "\n",
        "  # increament the row count for next camara data or products\n",
        "  row +=1\n",
        "\n",
        "# save workbook data in 'amazon-Camara-Comp.xls' excel file\n",
        "wb.save(\"amazon-Camara-Comp.xls\")"
      ],
      "metadata": {
        "id": "_K4_QkyemX3l"
      },
      "execution_count": 186,
      "outputs": []
    },
    {
      "cell_type": "markdown",
      "source": [
        "## **OUTPUT :**\n",
        "- Excel Sheet Data"
      ],
      "metadata": {
        "id": "ZApAFlcX0pMN"
      }
    },
    {
      "cell_type": "code",
      "source": [
        "# read by default sheet of an excel file\n",
        "exceldata = pd.read_excel('amazon-Camara-Comp.xls')\n",
        "print(exceldata)\n"
      ],
      "metadata": {
        "colab": {
          "base_uri": "https://localhost:8080/"
        },
        "id": "Sw6I2zDvydsO",
        "outputId": "b4e61466-c9f3-4486-ec05-af44c257cc5d"
      },
      "execution_count": 187,
      "outputs": [
        {
          "output_type": "stream",
          "name": "stdout",
          "text": [
            "   Sr.No                                               Name       Price  \\\n",
            "0      1  Canon M50 Mark II 15-45mm f3.5-6.3 is STM Digi...  ₹56,990.00   \n",
            "1      2  Canon EOS 1500D 24.1 Digital SLR Camera (Black...  ₹35,990.00   \n",
            "2      3  Canon EOS 200D II 24.1MP Digital SLR Camera + ...  ₹56,190.00   \n",
            "3      4                      insta360 ONE X2 Action Camera  ₹32,990.00   \n",
            "4      5  Sony Alpha ZV-E10L 24.2 Mega Pixel Interchange...  ₹61,543.00   \n",
            "5      6  Nikon D7500 20.9MP Digital SLR Camera (Black) ...  ₹84,940.00   \n",
            "\n",
            "      Brand              Modal  \\\n",
            "0     Canon  Canon M50 Mark II   \n",
            "1     Canon          EOS 1500D   \n",
            "2     Canon        EOS 200D II   \n",
            "3  insta360             ONE X2   \n",
            "4      Sony              Alpha   \n",
            "5     Nikon              D7500   \n",
            "\n",
            "                                     Special Feature Eff. Still Resolution  \\\n",
            "0                                          Live View                     4   \n",
            "1  Built-in Monaural Microphone, Sound-Recording ...                 24.10   \n",
            "2  Eye Detection Auto Focus, Wi-Fi, 3 Inches Display               24.1 MP   \n",
            "3                          Action Camera, 360 degree                   NaN   \n",
            "4                                         Time-lapse                    24   \n",
            "5  special effects modes (night vision; super viv...               20.9 MP   \n",
            "\n",
            "       Display Size Optical Zoom Colour Photo Sensor Size        Connection  \n",
            "0  7.62 Centimetres          3 x  Black             APS-C             Wi-Fi  \n",
            "1          3 Inches          3 x  black         APS-C fps              WiFi  \n",
            "2          3 Inches          3 x  Black          1.5-inch             Wi-Fi  \n",
            "3     1 Centimetres            1  black               NaN               NaN  \n",
            "4          3 Inches            2  Black             APS-C               USB  \n",
            "5        3.2 Inches          5 x  Black         APS-C fps  Bluetooth, Wi-Fi  \n"
          ]
        }
      ]
    }
  ]
}